{
 "cells": [
  {
   "cell_type": "code",
   "execution_count": null,
   "id": "initial_id",
   "metadata": {
    "collapsed": true
   },
   "outputs": [],
   "source": [
    "import pandas as pd\n",
    "import pygwalker as pyg\n",
    "\n",
    "def load_pkl(file_path):\n",
    "    # 加载 pkl 文件\n",
    "    df = pd.read_pickle(file_path)\n",
    "\n",
    "    # 返回 DataFrame 以便在 Jupyter Notebook 中展示\n",
    "    return df\n",
    "\n",
    "# 设置 pkl 文件的路径\n",
    "file_path = 'path_to_your_file.pkl'\n",
    "df = load_pkl(file_path)\n",
    "# PyGWalker 分析 DataFrame：数据探索、创建图表和报告以及可视化交互\n",
    "pyg.walk(df, hideDataSourceConfig=True, vegaTheme='g2')"
   ]
  }
 ],
 "metadata": {
  "kernelspec": {
   "display_name": "Python 3",
   "language": "python",
   "name": "python3"
  },
  "language_info": {
   "codemirror_mode": {
    "name": "ipython",
    "version": 2
   },
   "file_extension": ".py",
   "mimetype": "text/x-python",
   "name": "python",
   "nbconvert_exporter": "python",
   "pygments_lexer": "ipython2",
   "version": "2.7.6"
  }
 },
 "nbformat": 4,
 "nbformat_minor": 5
}
